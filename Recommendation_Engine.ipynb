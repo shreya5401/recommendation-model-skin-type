{
  "cells": [
    {
      "cell_type": "markdown",
      "id": "6211de19",
      "metadata": {
        "id": "6211de19"
      },
      "source": [
        "# Skincare Recommendation Engine\n"
      ]
    },
    {
      "cell_type": "markdown",
      "id": "c3e146c2",
      "metadata": {
        "id": "c3e146c2"
      },
      "source": [
        "This notebook walks you through the development of a content-based recommendation engine that should take a list of skin metrics/concerns (skin type, tone, acne, blemishes, redness, etc) as input and return several products that might suit the user's skin."
      ]
    },
    {
      "cell_type": "code",
      "execution_count": null,
      "id": "e02d4282",
      "metadata": {
        "id": "e02d4282"
      },
      "outputs": [],
      "source": [
        "import numpy as np\n",
        "import pandas as pd\n",
        "from sklearn.metrics.pairwise import cosine_similarity\n",
        "import heapq\n"
      ]
    },
    {
      "cell_type": "code",
      "execution_count": null,
      "id": "f2339cd0",
      "metadata": {
        "id": "f2339cd0"
      },
      "outputs": [],
      "source": [
        "# 'essentials' implies essential facial skincare products\n",
        "df = pd.read_csv('result.csv')\n",
        "\n",
        "makeup = pd.read_csv('result2.csv')"
      ]
    },
    {
      "cell_type": "code",
      "execution_count": null,
      "id": "5c62b323",
      "metadata": {
        "colab": {
          "base_uri": "https://localhost:8080/",
          "height": 310
        },
        "id": "5c62b323",
        "outputId": "82a512f7-0e3e-4027-d44a-2a3a938ffb0c"
      },
      "outputs": [
        {
          "data": {
            "application/vnd.google.colaboratory.intrinsic+json": {
              "summary": "{\n  \"name\": \"df\",\n  \"rows\": 1872,\n  \"fields\": [\n    {\n      \"column\": \"label\",\n      \"properties\": {\n        \"dtype\": \"category\",\n        \"num_unique_values\": 7,\n        \"samples\": [\n          \"face-moisturisers\",\n          \"cleanser\",\n          \"foundation\"\n        ],\n        \"semantic_type\": \"\",\n        \"description\": \"\"\n      }\n    },\n    {\n      \"column\": \"url\",\n      \"properties\": {\n        \"dtype\": \"string\",\n        \"num_unique_values\": 1760,\n        \"samples\": [\n          \"https://www.myntra.com/mask-and-peel/pratha/pratha-beige-multani-clay-/15533928/buy\",\n          \"https://www.myntra.com/concealer/olivia/olivia-pack-of-3-100-waterproof-pan-cake-tender-orange-makeup-concealer-25g/11611696/buy\",\n          \"https://www.myntra.com/eye-cream/the-face-shop/the-face-shop-pomegranate--collagen-volume-lifting-eye-cream-100-ml/9113681/buy\"\n        ],\n        \"semantic_type\": \"\",\n        \"description\": \"\"\n      }\n    },\n    {\n      \"column\": \"brand\",\n      \"properties\": {\n        \"dtype\": \"category\",\n        \"num_unique_values\": 163,\n        \"samples\": [\n          \"asa\",\n          \"L.A Girl\",\n          \"Benefit Cosmetics\"\n        ],\n        \"semantic_type\": \"\",\n        \"description\": \"\"\n      }\n    },\n    {\n      \"column\": \"name\",\n      \"properties\": {\n        \"dtype\": \"string\",\n        \"num_unique_values\": 1698,\n        \"samples\": [\n          \"Unisex Photoderm MAX Creme SPF 50+ Sunscreen Cream\",\n          \"Anti Aging Night Cream 50 ml\",\n          \"Men PowerWhite Anti-Pollution Brightening Moisturizer 20 g\"\n        ],\n        \"semantic_type\": \"\",\n        \"description\": \"\"\n      }\n    },\n    {\n      \"column\": \"price\",\n      \"properties\": {\n        \"dtype\": \"category\",\n        \"num_unique_values\": 620,\n        \"samples\": [\n          \"\\u20b9 262\",\n          \"\\u20b9 546\",\n          \"\\u20b9 1058\"\n        ],\n        \"semantic_type\": \"\",\n        \"description\": \"\"\n      }\n    },\n    {\n      \"column\": \"skin type\",\n      \"properties\": {\n        \"dtype\": \"category\",\n        \"num_unique_values\": 6,\n        \"samples\": [\n          \"All\",\n          \"Normal\",\n          \"Sensitive\"\n        ],\n        \"semantic_type\": \"\",\n        \"description\": \"\"\n      }\n    },\n    {\n      \"column\": \"spf\",\n      \"properties\": {\n        \"dtype\": \"category\",\n        \"num_unique_values\": 5,\n        \"samples\": [\n          \"Below 15\",\n          \"Above 30\",\n          \"30 and above\"\n        ],\n        \"semantic_type\": \"\",\n        \"description\": \"\"\n      }\n    },\n    {\n      \"column\": \"concern\",\n      \"properties\": {\n        \"dtype\": \"category\",\n        \"num_unique_values\": 32,\n        \"samples\": [\n          \"Oily Skin\",\n          \"Lightening\",\n          \"Waterproof\"\n        ],\n        \"semantic_type\": \"\",\n        \"description\": \"\"\n      }\n    },\n    {\n      \"column\": \"concern 2\",\n      \"properties\": {\n        \"dtype\": \"category\",\n        \"num_unique_values\": 28,\n        \"samples\": [\n          \"Blackheads and Whiteheads\",\n          \"Skin Tightening\",\n          \"Pigmentation\"\n        ],\n        \"semantic_type\": \"\",\n        \"description\": \"\"\n      }\n    },\n    {\n      \"column\": \"concern 3\",\n      \"properties\": {\n        \"dtype\": \"category\",\n        \"num_unique_values\": 27,\n        \"samples\": [\n          \"Uneven Skin Tone\",\n          \"Anti-Pollution\",\n          \"Excess Oil\"\n        ],\n        \"semantic_type\": \"\",\n        \"description\": \"\"\n      }\n    },\n    {\n      \"column\": \"key ingredient\",\n      \"properties\": {\n        \"dtype\": \"category\",\n        \"num_unique_values\": 47,\n        \"samples\": [\n          \"Squalene\",\n          \"Lemon Grass\",\n          \"Sandalwood\"\n        ],\n        \"semantic_type\": \"\",\n        \"description\": \"\"\n      }\n    },\n    {\n      \"column\": \"formulation\",\n      \"properties\": {\n        \"dtype\": \"category\",\n        \"num_unique_values\": 14,\n        \"samples\": [\n          \"Cream-To-Powder\",\n          \"Cushion\",\n          \"Cream\"\n        ],\n        \"semantic_type\": \"\",\n        \"description\": \"\"\n      }\n    }\n  ]\n}",
              "type": "dataframe",
              "variable_name": "df"
            },
            "text/html": [
              "\n",
              "  <div id=\"df-d0ac2402-ebea-4a4e-ba0f-10f55df07506\" class=\"colab-df-container\">\n",
              "    <div>\n",
              "<style scoped>\n",
              "    .dataframe tbody tr th:only-of-type {\n",
              "        vertical-align: middle;\n",
              "    }\n",
              "\n",
              "    .dataframe tbody tr th {\n",
              "        vertical-align: top;\n",
              "    }\n",
              "\n",
              "    .dataframe thead th {\n",
              "        text-align: right;\n",
              "    }\n",
              "</style>\n",
              "<table border=\"1\" class=\"dataframe\">\n",
              "  <thead>\n",
              "    <tr style=\"text-align: right;\">\n",
              "      <th></th>\n",
              "      <th>label</th>\n",
              "      <th>url</th>\n",
              "      <th>brand</th>\n",
              "      <th>name</th>\n",
              "      <th>price</th>\n",
              "      <th>skin type</th>\n",
              "      <th>spf</th>\n",
              "      <th>concern</th>\n",
              "      <th>concern 2</th>\n",
              "      <th>concern 3</th>\n",
              "      <th>key ingredient</th>\n",
              "      <th>formulation</th>\n",
              "    </tr>\n",
              "  </thead>\n",
              "  <tbody>\n",
              "    <tr>\n",
              "      <th>0</th>\n",
              "      <td>face-moisturisers</td>\n",
              "      <td>https://www.myntra.com/face-moisturisers/lakme...</td>\n",
              "      <td>Lakme</td>\n",
              "      <td>Absolute Perfect Radiance Skin Lightening Day ...</td>\n",
              "      <td>₹ 79</td>\n",
              "      <td>All</td>\n",
              "      <td>NaN</td>\n",
              "      <td>General Care</td>\n",
              "      <td>NaN</td>\n",
              "      <td>NaN</td>\n",
              "      <td>NaN</td>\n",
              "      <td>Cream</td>\n",
              "    </tr>\n",
              "    <tr>\n",
              "      <th>1</th>\n",
              "      <td>face-moisturisers</td>\n",
              "      <td>https://www.myntra.com/face-moisturisers/bioti...</td>\n",
              "      <td>Biotique</td>\n",
              "      <td>Bio Morning Nectar Flawless Sustainable Skin M...</td>\n",
              "      <td>₹ 165</td>\n",
              "      <td>All</td>\n",
              "      <td>NaN</td>\n",
              "      <td>Uneven Skin Tone</td>\n",
              "      <td>Hydration</td>\n",
              "      <td>Dark Spots</td>\n",
              "      <td>Honey</td>\n",
              "      <td>Lotion</td>\n",
              "    </tr>\n",
              "    <tr>\n",
              "      <th>2</th>\n",
              "      <td>face-moisturisers</td>\n",
              "      <td>https://www.myntra.com/face-moisturisers/nivea...</td>\n",
              "      <td>Nivea</td>\n",
              "      <td>Unisex Aloe Hydration Skin Cream 100 ml</td>\n",
              "      <td>₹ 92</td>\n",
              "      <td>All</td>\n",
              "      <td>NaN</td>\n",
              "      <td>Dull Skin</td>\n",
              "      <td>Dryness</td>\n",
              "      <td>General Care</td>\n",
              "      <td>Aloe Vera</td>\n",
              "      <td>Cream</td>\n",
              "    </tr>\n",
              "    <tr>\n",
              "      <th>3</th>\n",
              "      <td>face-moisturisers</td>\n",
              "      <td>https://www.myntra.com/face-moisturisers/vi-jo...</td>\n",
              "      <td>VI-JOHN</td>\n",
              "      <td>Women Set of 5 Saffron Fairness Cream Advanced</td>\n",
              "      <td>₹ 187</td>\n",
              "      <td>All</td>\n",
              "      <td>15 to 30</td>\n",
              "      <td>Softening and Smoothening</td>\n",
              "      <td>Softening and Smoothening</td>\n",
              "      <td>Sun Protection</td>\n",
              "      <td>Vitamin E</td>\n",
              "      <td>Cream</td>\n",
              "    </tr>\n",
              "    <tr>\n",
              "      <th>4</th>\n",
              "      <td>face-moisturisers</td>\n",
              "      <td>https://www.myntra.com/face-moisturisers/lakme...</td>\n",
              "      <td>Lakme</td>\n",
              "      <td>Peach Milk Soft Creme 150g</td>\n",
              "      <td>₹ 192</td>\n",
              "      <td>All</td>\n",
              "      <td>NaN</td>\n",
              "      <td>General Care</td>\n",
              "      <td>NaN</td>\n",
              "      <td>NaN</td>\n",
              "      <td>NaN</td>\n",
              "      <td>Cream</td>\n",
              "    </tr>\n",
              "  </tbody>\n",
              "</table>\n",
              "</div>\n",
              "    <div class=\"colab-df-buttons\">\n",
              "\n",
              "  <div class=\"colab-df-container\">\n",
              "    <button class=\"colab-df-convert\" onclick=\"convertToInteractive('df-d0ac2402-ebea-4a4e-ba0f-10f55df07506')\"\n",
              "            title=\"Convert this dataframe to an interactive table.\"\n",
              "            style=\"display:none;\">\n",
              "\n",
              "  <svg xmlns=\"http://www.w3.org/2000/svg\" height=\"24px\" viewBox=\"0 -960 960 960\">\n",
              "    <path d=\"M120-120v-720h720v720H120Zm60-500h600v-160H180v160Zm220 220h160v-160H400v160Zm0 220h160v-160H400v160ZM180-400h160v-160H180v160Zm440 0h160v-160H620v160ZM180-180h160v-160H180v160Zm440 0h160v-160H620v160Z\"/>\n",
              "  </svg>\n",
              "    </button>\n",
              "\n",
              "  <style>\n",
              "    .colab-df-container {\n",
              "      display:flex;\n",
              "      gap: 12px;\n",
              "    }\n",
              "\n",
              "    .colab-df-convert {\n",
              "      background-color: #E8F0FE;\n",
              "      border: none;\n",
              "      border-radius: 50%;\n",
              "      cursor: pointer;\n",
              "      display: none;\n",
              "      fill: #1967D2;\n",
              "      height: 32px;\n",
              "      padding: 0 0 0 0;\n",
              "      width: 32px;\n",
              "    }\n",
              "\n",
              "    .colab-df-convert:hover {\n",
              "      background-color: #E2EBFA;\n",
              "      box-shadow: 0px 1px 2px rgba(60, 64, 67, 0.3), 0px 1px 3px 1px rgba(60, 64, 67, 0.15);\n",
              "      fill: #174EA6;\n",
              "    }\n",
              "\n",
              "    .colab-df-buttons div {\n",
              "      margin-bottom: 4px;\n",
              "    }\n",
              "\n",
              "    [theme=dark] .colab-df-convert {\n",
              "      background-color: #3B4455;\n",
              "      fill: #D2E3FC;\n",
              "    }\n",
              "\n",
              "    [theme=dark] .colab-df-convert:hover {\n",
              "      background-color: #434B5C;\n",
              "      box-shadow: 0px 1px 3px 1px rgba(0, 0, 0, 0.15);\n",
              "      filter: drop-shadow(0px 1px 2px rgba(0, 0, 0, 0.3));\n",
              "      fill: #FFFFFF;\n",
              "    }\n",
              "  </style>\n",
              "\n",
              "    <script>\n",
              "      const buttonEl =\n",
              "        document.querySelector('#df-d0ac2402-ebea-4a4e-ba0f-10f55df07506 button.colab-df-convert');\n",
              "      buttonEl.style.display =\n",
              "        google.colab.kernel.accessAllowed ? 'block' : 'none';\n",
              "\n",
              "      async function convertToInteractive(key) {\n",
              "        const element = document.querySelector('#df-d0ac2402-ebea-4a4e-ba0f-10f55df07506');\n",
              "        const dataTable =\n",
              "          await google.colab.kernel.invokeFunction('convertToInteractive',\n",
              "                                                    [key], {});\n",
              "        if (!dataTable) return;\n",
              "\n",
              "        const docLinkHtml = 'Like what you see? Visit the ' +\n",
              "          '<a target=\"_blank\" href=https://colab.research.google.com/notebooks/data_table.ipynb>data table notebook</a>'\n",
              "          + ' to learn more about interactive tables.';\n",
              "        element.innerHTML = '';\n",
              "        dataTable['output_type'] = 'display_data';\n",
              "        await google.colab.output.renderOutput(dataTable, element);\n",
              "        const docLink = document.createElement('div');\n",
              "        docLink.innerHTML = docLinkHtml;\n",
              "        element.appendChild(docLink);\n",
              "      }\n",
              "    </script>\n",
              "  </div>\n",
              "\n",
              "\n",
              "<div id=\"df-5c74aef3-e537-4f30-a23a-ffa227fedb53\">\n",
              "  <button class=\"colab-df-quickchart\" onclick=\"quickchart('df-5c74aef3-e537-4f30-a23a-ffa227fedb53')\"\n",
              "            title=\"Suggest charts\"\n",
              "            style=\"display:none;\">\n",
              "\n",
              "<svg xmlns=\"http://www.w3.org/2000/svg\" height=\"24px\"viewBox=\"0 0 24 24\"\n",
              "     width=\"24px\">\n",
              "    <g>\n",
              "        <path d=\"M19 3H5c-1.1 0-2 .9-2 2v14c0 1.1.9 2 2 2h14c1.1 0 2-.9 2-2V5c0-1.1-.9-2-2-2zM9 17H7v-7h2v7zm4 0h-2V7h2v10zm4 0h-2v-4h2v4z\"/>\n",
              "    </g>\n",
              "</svg>\n",
              "  </button>\n",
              "\n",
              "<style>\n",
              "  .colab-df-quickchart {\n",
              "      --bg-color: #E8F0FE;\n",
              "      --fill-color: #1967D2;\n",
              "      --hover-bg-color: #E2EBFA;\n",
              "      --hover-fill-color: #174EA6;\n",
              "      --disabled-fill-color: #AAA;\n",
              "      --disabled-bg-color: #DDD;\n",
              "  }\n",
              "\n",
              "  [theme=dark] .colab-df-quickchart {\n",
              "      --bg-color: #3B4455;\n",
              "      --fill-color: #D2E3FC;\n",
              "      --hover-bg-color: #434B5C;\n",
              "      --hover-fill-color: #FFFFFF;\n",
              "      --disabled-bg-color: #3B4455;\n",
              "      --disabled-fill-color: #666;\n",
              "  }\n",
              "\n",
              "  .colab-df-quickchart {\n",
              "    background-color: var(--bg-color);\n",
              "    border: none;\n",
              "    border-radius: 50%;\n",
              "    cursor: pointer;\n",
              "    display: none;\n",
              "    fill: var(--fill-color);\n",
              "    height: 32px;\n",
              "    padding: 0;\n",
              "    width: 32px;\n",
              "  }\n",
              "\n",
              "  .colab-df-quickchart:hover {\n",
              "    background-color: var(--hover-bg-color);\n",
              "    box-shadow: 0 1px 2px rgba(60, 64, 67, 0.3), 0 1px 3px 1px rgba(60, 64, 67, 0.15);\n",
              "    fill: var(--button-hover-fill-color);\n",
              "  }\n",
              "\n",
              "  .colab-df-quickchart-complete:disabled,\n",
              "  .colab-df-quickchart-complete:disabled:hover {\n",
              "    background-color: var(--disabled-bg-color);\n",
              "    fill: var(--disabled-fill-color);\n",
              "    box-shadow: none;\n",
              "  }\n",
              "\n",
              "  .colab-df-spinner {\n",
              "    border: 2px solid var(--fill-color);\n",
              "    border-color: transparent;\n",
              "    border-bottom-color: var(--fill-color);\n",
              "    animation:\n",
              "      spin 1s steps(1) infinite;\n",
              "  }\n",
              "\n",
              "  @keyframes spin {\n",
              "    0% {\n",
              "      border-color: transparent;\n",
              "      border-bottom-color: var(--fill-color);\n",
              "      border-left-color: var(--fill-color);\n",
              "    }\n",
              "    20% {\n",
              "      border-color: transparent;\n",
              "      border-left-color: var(--fill-color);\n",
              "      border-top-color: var(--fill-color);\n",
              "    }\n",
              "    30% {\n",
              "      border-color: transparent;\n",
              "      border-left-color: var(--fill-color);\n",
              "      border-top-color: var(--fill-color);\n",
              "      border-right-color: var(--fill-color);\n",
              "    }\n",
              "    40% {\n",
              "      border-color: transparent;\n",
              "      border-right-color: var(--fill-color);\n",
              "      border-top-color: var(--fill-color);\n",
              "    }\n",
              "    60% {\n",
              "      border-color: transparent;\n",
              "      border-right-color: var(--fill-color);\n",
              "    }\n",
              "    80% {\n",
              "      border-color: transparent;\n",
              "      border-right-color: var(--fill-color);\n",
              "      border-bottom-color: var(--fill-color);\n",
              "    }\n",
              "    90% {\n",
              "      border-color: transparent;\n",
              "      border-bottom-color: var(--fill-color);\n",
              "    }\n",
              "  }\n",
              "</style>\n",
              "\n",
              "  <script>\n",
              "    async function quickchart(key) {\n",
              "      const quickchartButtonEl =\n",
              "        document.querySelector('#' + key + ' button');\n",
              "      quickchartButtonEl.disabled = true;  // To prevent multiple clicks.\n",
              "      quickchartButtonEl.classList.add('colab-df-spinner');\n",
              "      try {\n",
              "        const charts = await google.colab.kernel.invokeFunction(\n",
              "            'suggestCharts', [key], {});\n",
              "      } catch (error) {\n",
              "        console.error('Error during call to suggestCharts:', error);\n",
              "      }\n",
              "      quickchartButtonEl.classList.remove('colab-df-spinner');\n",
              "      quickchartButtonEl.classList.add('colab-df-quickchart-complete');\n",
              "    }\n",
              "    (() => {\n",
              "      let quickchartButtonEl =\n",
              "        document.querySelector('#df-5c74aef3-e537-4f30-a23a-ffa227fedb53 button');\n",
              "      quickchartButtonEl.style.display =\n",
              "        google.colab.kernel.accessAllowed ? 'block' : 'none';\n",
              "    })();\n",
              "  </script>\n",
              "</div>\n",
              "\n",
              "    </div>\n",
              "  </div>\n"
            ],
            "text/plain": [
              "               label                                                url  \\\n",
              "0  face-moisturisers  https://www.myntra.com/face-moisturisers/lakme...   \n",
              "1  face-moisturisers  https://www.myntra.com/face-moisturisers/bioti...   \n",
              "2  face-moisturisers  https://www.myntra.com/face-moisturisers/nivea...   \n",
              "3  face-moisturisers  https://www.myntra.com/face-moisturisers/vi-jo...   \n",
              "4  face-moisturisers  https://www.myntra.com/face-moisturisers/lakme...   \n",
              "\n",
              "      brand                                               name  price  \\\n",
              "0     Lakme  Absolute Perfect Radiance Skin Lightening Day ...   ₹ 79   \n",
              "1  Biotique  Bio Morning Nectar Flawless Sustainable Skin M...  ₹ 165   \n",
              "2     Nivea            Unisex Aloe Hydration Skin Cream 100 ml   ₹ 92   \n",
              "3   VI-JOHN     Women Set of 5 Saffron Fairness Cream Advanced  ₹ 187   \n",
              "4     Lakme                         Peach Milk Soft Creme 150g  ₹ 192   \n",
              "\n",
              "  skin type       spf                    concern                  concern 2  \\\n",
              "0       All       NaN               General Care                        NaN   \n",
              "1       All       NaN           Uneven Skin Tone                  Hydration   \n",
              "2       All       NaN                  Dull Skin                    Dryness   \n",
              "3       All  15 to 30  Softening and Smoothening  Softening and Smoothening   \n",
              "4       All       NaN               General Care                        NaN   \n",
              "\n",
              "        concern 3 key ingredient formulation  \n",
              "0             NaN            NaN       Cream  \n",
              "1      Dark Spots          Honey      Lotion  \n",
              "2    General Care      Aloe Vera       Cream  \n",
              "3  Sun Protection      Vitamin E       Cream  \n",
              "4             NaN            NaN       Cream  "
            ]
          },
          "execution_count": 3,
          "metadata": {},
          "output_type": "execute_result"
        }
      ],
      "source": [
        "df.head()"
      ]
    },
    {
      "cell_type": "code",
      "execution_count": null,
      "id": "17bac683",
      "metadata": {
        "colab": {
          "base_uri": "https://localhost:8080/"
        },
        "id": "17bac683",
        "outputId": "b1ef1308-2f3c-4367-8587-70517c80c01d"
      },
      "outputs": [
        {
          "data": {
            "text/plain": [
              "skin tone\n",
              "Light to Medium    317\n",
              "Fair to Light      109\n",
              "Medium to Dark      49\n",
              "Dark to Deep        19\n",
              "Name: count, dtype: int64"
            ]
          },
          "execution_count": 4,
          "metadata": {},
          "output_type": "execute_result"
        }
      ],
      "source": [
        "makeup['skin tone'].value_counts()\n"
      ]
    },
    {
      "cell_type": "markdown",
      "id": "118feb49",
      "metadata": {
        "id": "118feb49"
      },
      "source": [
        "## Data Preprocessing"
      ]
    },
    {
      "cell_type": "code",
      "source": [
        "makeup['skin type'].value_counts()"
      ],
      "metadata": {
        "colab": {
          "base_uri": "https://localhost:8080/"
        },
        "id": "ya3MavlVvL6F",
        "outputId": "6b3e9ee5-507c-4210-dc3d-fda3d31fb7d4"
      },
      "id": "ya3MavlVvL6F",
      "execution_count": null,
      "outputs": [
        {
          "output_type": "execute_result",
          "data": {
            "text/plain": [
              "skin type\n",
              "all            376\n",
              "normal          95\n",
              "oily            17\n",
              "combination      5\n",
              "dry              1\n",
              "Name: count, dtype: int64"
            ]
          },
          "metadata": {},
          "execution_count": 101
        }
      ]
    },
    {
      "cell_type": "markdown",
      "id": "9d652c91",
      "metadata": {
        "id": "9d652c91"
      },
      "source": [
        "## Imputation of values"
      ]
    },
    {
      "cell_type": "code",
      "execution_count": null,
      "id": "3860a004",
      "metadata": {
        "colab": {
          "base_uri": "https://localhost:8080/"
        },
        "id": "3860a004",
        "outputId": "cfb9c7f9-852a-4a66-8c51-cdec1b4ed96a",
        "scrolled": true
      },
      "outputs": [
        {
          "data": {
            "text/plain": [
              "label\n",
              "face-moisturisers    300\n",
              "cleanser             300\n",
              "concealer            300\n",
              "mask-and-peel        300\n",
              "foundation           300\n",
              "sunscreen            272\n",
              "eye-cream            100\n",
              "Name: count, dtype: int64"
            ]
          },
          "execution_count": 5,
          "metadata": {},
          "output_type": "execute_result"
        }
      ],
      "source": [
        "df['label'].value_counts()"
      ]
    },
    {
      "cell_type": "code",
      "execution_count": null,
      "id": "2f9db474",
      "metadata": {
        "colab": {
          "base_uri": "https://localhost:8080/"
        },
        "id": "2f9db474",
        "outputId": "78f5435c-df8f-431b-d19d-b69df249cb8c"
      },
      "outputs": [
        {
          "data": {
            "text/plain": [
              "label                0\n",
              "url                  0\n",
              "brand               46\n",
              "name                46\n",
              "price               46\n",
              "skin type          309\n",
              "spf               1452\n",
              "concern            380\n",
              "concern 2         1136\n",
              "concern 3         1319\n",
              "key ingredient    1159\n",
              "formulation        384\n",
              "dtype: int64"
            ]
          },
          "execution_count": 6,
          "metadata": {},
          "output_type": "execute_result"
        }
      ],
      "source": [
        "df.isna().sum()"
      ]
    },
    {
      "cell_type": "code",
      "execution_count": null,
      "id": "5a386d84",
      "metadata": {
        "id": "5a386d84"
      },
      "outputs": [],
      "source": [
        "df['concern 2'].fillna('', inplace = True)\n",
        "df['concern 3'].fillna('', inplace = True)\n",
        "df['concern'] = df['concern'] + ',' + df['concern 2'] + ',' + df['concern 3']\n"
      ]
    },
    {
      "cell_type": "code",
      "execution_count": null,
      "id": "251108c2",
      "metadata": {
        "colab": {
          "base_uri": "https://localhost:8080/"
        },
        "id": "251108c2",
        "outputId": "b519616c-0dab-4ba3-9073-a98b0ec08ccd"
      },
      "outputs": [
        {
          "data": {
            "text/plain": [
              "0                                          General Care,,\n",
              "1                   Uneven Skin Tone,Hydration,Dark Spots\n",
              "2                          Dull Skin,Dryness,General Care\n",
              "3       Softening and Smoothening,Softening and Smooth...\n",
              "4                                          General Care,,\n",
              "                              ...                        \n",
              "1867                                       Dark Circles,,\n",
              "1868                Fine Lines and Wrinkles,Dark Circles,\n",
              "1869                   Dark Circles,Dark Circles,Eye Bags\n",
              "1870                                                  NaN\n",
              "1871                        Dark Circles,Eye Bags,Dryness\n",
              "Name: concern, Length: 1872, dtype: object"
            ]
          },
          "execution_count": 8,
          "metadata": {},
          "output_type": "execute_result"
        }
      ],
      "source": [
        "df['concern']"
      ]
    },
    {
      "cell_type": "code",
      "execution_count": null,
      "id": "857ab1c2",
      "metadata": {
        "colab": {
          "base_uri": "https://localhost:8080/"
        },
        "id": "857ab1c2",
        "outputId": "de2d547b-600f-4b7b-8a8f-e0c18dcb4e63"
      },
      "outputs": [
        {
          "data": {
            "text/plain": [
              "concern\n",
              "Sun Protection,,                                       202\n",
              "Dark Spots,,                                            81\n",
              "General Care,,                                          68\n",
              "Dark Circles,,                                          51\n",
              "Waterproof,,                                            43\n",
              "                                                      ... \n",
              "Acne or Blemishes,Pigmentation,Anti-Pollution            1\n",
              "Lightening,Dark Spots,                                   1\n",
              "Daily Use,Acne or Blemishes,Fine Lines and Wrinkles      1\n",
              "Anti-Pollution,Acne or Blemishes,Excess Oil              1\n",
              "Lightening,Dryness,                                      1\n",
              "Name: count, Length: 438, dtype: int64"
            ]
          },
          "execution_count": 9,
          "metadata": {},
          "output_type": "execute_result"
        }
      ],
      "source": [
        "df.drop(columns=['concern 2', 'concern 3', 'spf', 'key ingredient', 'formulation'], inplace = True)\n",
        "df['concern'].value_counts()"
      ]
    },
    {
      "cell_type": "code",
      "execution_count": null,
      "id": "e8770c2a",
      "metadata": {
        "id": "e8770c2a"
      },
      "outputs": [],
      "source": [
        "df2 = df[((df['label'] == 'face-moisturisers') | (df['label'] == 'mask-and-peel') | (df['label'] == 'cleanser') | (df['label'] == 'eye-cream'))]\n",
        "df2\n",
        "LABELS = list(df2.label.unique())"
      ]
    },
    {
      "cell_type": "code",
      "execution_count": null,
      "id": "8d66115c",
      "metadata": {
        "colab": {
          "base_uri": "https://localhost:8080/"
        },
        "id": "8d66115c",
        "outputId": "4f6bcfc7-5551-4d84-bfbd-9d7f80813165",
        "scrolled": true
      },
      "outputs": [
        {
          "name": "stdout",
          "output_type": "stream",
          "text": [
            "<class 'pandas.core.frame.DataFrame'>\n",
            "Index: 967 entries, 0 to 966\n",
            "Data columns (total 7 columns):\n",
            " #   Column     Non-Null Count  Dtype \n",
            "---  ------     --------------  ----- \n",
            " 0   label      967 non-null    object\n",
            " 1   url        967 non-null    object\n",
            " 2   brand      967 non-null    object\n",
            " 3   name       967 non-null    object\n",
            " 4   price      967 non-null    object\n",
            " 5   skin type  967 non-null    object\n",
            " 6   concern    939 non-null    object\n",
            "dtypes: object(7)\n",
            "memory usage: 60.4+ KB\n"
          ]
        }
      ],
      "source": [
        "df2 = df2[df2['skin type'].isna() == False]\n",
        "df2.index = [i for i in range(0, len(df2))]\n",
        "df2.info()"
      ]
    },
    {
      "cell_type": "code",
      "execution_count": null,
      "id": "7721054c",
      "metadata": {
        "colab": {
          "base_uri": "https://localhost:8080/"
        },
        "id": "7721054c",
        "outputId": "ac82b852-1780-4f29-98cd-764a49e4c0ad"
      },
      "outputs": [
        {
          "data": {
            "text/plain": [
              "label\n",
              "face-moisturisers    10\n",
              "mask-and-peel         9\n",
              "cleanser              5\n",
              "eye-cream             4\n",
              "Name: count, dtype: int64"
            ]
          },
          "execution_count": 12,
          "metadata": {},
          "output_type": "execute_result"
        }
      ],
      "source": [
        "df2[df2['concern'].isna() == True]['label'].value_counts()"
      ]
    },
    {
      "cell_type": "code",
      "execution_count": null,
      "id": "be8a25ec",
      "metadata": {
        "colab": {
          "base_uri": "https://localhost:8080/"
        },
        "id": "be8a25ec",
        "outputId": "ffacbf31-6335-410c-ff3e-861694dabc1b"
      },
      "outputs": [
        {
          "data": {
            "text/plain": [
              "concern\n",
              "Fine Lines and Wrinkles,Dark Circles,Eye Bags    16\n",
              "Dark Circles,Eye Bags,                           12\n",
              "Dark Circles,,                                   11\n",
              "Fine Lines and Wrinkles,Dark Circles,             9\n",
              "Dark Circles,Dark Circles,Eye Bags                8\n",
              "Dark Circles,Eye Bags,Dryness                     7\n",
              "Dark Circles,Eye Bags,Dark Circles                6\n",
              "Dryness,Dark Circles,                             3\n",
              "Dark Circles,Dryness,                             3\n",
              "Fine Lines and Wrinkles,Dryness,                  3\n",
              "Fine Lines and Wrinkles,,                         3\n",
              "Dryness,,                                         2\n",
              "Dryness,Eye Bags,Dark Circles                     2\n",
              "Fine Lines and Wrinkles,Dark Circles,Dryness      2\n",
              "Lightening,Dark Circles,Eye Bags                  2\n",
              "Fine Lines and Wrinkles,Dryness,Eye Bags          1\n",
              "Dark Circles,Dark Circles,                        1\n",
              "Dark Circles,Dryness,Eye Bags                     1\n",
              "Lightening,,                                      1\n",
              "Lightening,Dark Circles,Dryness                   1\n",
              "Dryness,Eye Bags,                                 1\n",
              "Lightening,Dryness,                               1\n",
              "Name: count, dtype: int64"
            ]
          },
          "execution_count": 13,
          "metadata": {},
          "output_type": "execute_result"
        }
      ],
      "source": [
        "df2[df2['label'] ==  'eye-cream']['concern'].value_counts()"
      ]
    },
    {
      "cell_type": "code",
      "execution_count": null,
      "id": "fce3fe39",
      "metadata": {
        "colab": {
          "base_uri": "https://localhost:8080/"
        },
        "id": "fce3fe39",
        "outputId": "34b07ab0-6956-40a9-fd82-a0278aee0ca5"
      },
      "outputs": [
        {
          "data": {
            "text/plain": [
              "Series([], Name: count, dtype: int64)"
            ]
          },
          "execution_count": 14,
          "metadata": {},
          "output_type": "execute_result"
        }
      ],
      "source": [
        "df2['concern'] = df2['concern'].str.lower()\n",
        "# df2[df2['label'] == 'face-moisturisers']['concern'].value_counts()\n",
        "# df2[df2['label'] == 'mask-and-peel']['concern'].value_counts()\n",
        "df2[df2['label'] == 'sunscreen']['concern'].value_counts()\n",
        "\n"
      ]
    },
    {
      "cell_type": "code",
      "execution_count": null,
      "id": "26c66535",
      "metadata": {
        "colab": {
          "base_uri": "https://localhost:8080/"
        },
        "id": "26c66535",
        "outputId": "31ebb312-9c1c-422f-cc8c-8933963a0a7d"
      },
      "outputs": [
        {
          "name": "stdout",
          "output_type": "stream",
          "text": [
            "<class 'pandas.core.frame.DataFrame'>\n",
            "Index: 967 entries, 0 to 966\n",
            "Data columns (total 7 columns):\n",
            " #   Column     Non-Null Count  Dtype \n",
            "---  ------     --------------  ----- \n",
            " 0   label      967 non-null    object\n",
            " 1   url        967 non-null    object\n",
            " 2   brand      967 non-null    object\n",
            " 3   name       967 non-null    object\n",
            " 4   price      967 non-null    object\n",
            " 5   skin type  967 non-null    object\n",
            " 6   concern    939 non-null    object\n",
            "dtypes: object(7)\n",
            "memory usage: 60.4+ KB\n"
          ]
        },
        {
          "name": "stderr",
          "output_type": "stream",
          "text": [
            "<ipython-input-15-91b250595870>:6: SettingWithCopyWarning: \n",
            "A value is trying to be set on a copy of a slice from a DataFrame\n",
            "\n",
            "See the caveats in the documentation: https://pandas.pydata.org/pandas-docs/stable/user_guide/indexing.html#returning-a-view-versus-a-copy\n",
            "  df2.iloc[i]['concern'] = top_concerns[label]\n"
          ]
        }
      ],
      "source": [
        "top_concerns = {'face-moisturisers':'general care', 'mask-and-peel':'daily use', 'cleanser':'general care', 'eye-cream':'fine lines,wrinkles,dark circles,eye bags' }\n",
        "entries = len(df2)\n",
        "for i in range(entries):\n",
        "    label = df2.iloc[i]['label']\n",
        "    if pd.isnull(df2.iloc[i]['concern']):\n",
        "        df2.iloc[i]['concern'] = top_concerns[label]\n",
        "df2.info()\n",
        "\n"
      ]
    },
    {
      "cell_type": "code",
      "execution_count": null,
      "id": "45ae57db",
      "metadata": {
        "id": "45ae57db"
      },
      "outputs": [],
      "source": [
        "# df2.to_csv('general_skincare.csv')"
      ]
    },
    {
      "cell_type": "code",
      "execution_count": null,
      "id": "e9dd8a89",
      "metadata": {
        "colab": {
          "base_uri": "https://localhost:8080/",
          "height": 424
        },
        "id": "e9dd8a89",
        "outputId": "bb92ffb7-019b-40a6-cdb6-6b07d11c8d74"
      },
      "outputs": [
        {
          "data": {
            "application/vnd.google.colaboratory.intrinsic+json": {
              "summary": "{\n  \"name\": \"df2\",\n  \"rows\": 967,\n  \"fields\": [\n    {\n      \"column\": \"label\",\n      \"properties\": {\n        \"dtype\": \"category\",\n        \"num_unique_values\": 4,\n        \"samples\": [\n          \"cleanser\",\n          \"eye-cream\",\n          \"face-moisturisers\"\n        ],\n        \"semantic_type\": \"\",\n        \"description\": \"\"\n      }\n    },\n    {\n      \"column\": \"url\",\n      \"properties\": {\n        \"dtype\": \"string\",\n        \"num_unique_values\": 915,\n        \"samples\": [\n          \"https://www.myntra.com/face-wash-and-cleanser/lotus-herbals/lotus-herbals-sustainable-promen-kakadu-plum-extract-energising-face--beard-wash--100ml/10579092/buy\",\n          \"https://www.myntra.com/eye-cream/biotique/biotique-bio-bxl-cellular-hydrating-eye-gel-15-g/1661448/buy\",\n          \"https://www.myntra.com/face-wash-and-cleanser/innisfree/innisfree-jeju-cherry-blossom-jam-cleanser-150-g-/14765218/buy\"\n        ],\n        \"semantic_type\": \"\",\n        \"description\": \"\"\n      }\n    },\n    {\n      \"column\": \"brand\",\n      \"properties\": {\n        \"dtype\": \"category\",\n        \"num_unique_values\": 117,\n        \"samples\": [\n          \"estee lauder\",\n          \"laneige\",\n          \"tac - the ayurveda co.\"\n        ],\n        \"semantic_type\": \"\",\n        \"description\": \"\"\n      }\n    },\n    {\n      \"column\": \"name\",\n      \"properties\": {\n        \"dtype\": \"string\",\n        \"num_unique_values\": 911,\n        \"samples\": [\n          \"unisex bamboo facial sheet mask of gooseberry & avocado\",\n          \"pack of 5 women beauty facial sheet mask and peel - 20 ml each\",\n          \"men activated charcoal deep skin cleansing rejuvenating peel-off mask 100 ml\"\n        ],\n        \"semantic_type\": \"\",\n        \"description\": \"\"\n      }\n    },\n    {\n      \"column\": \"price\",\n      \"properties\": {\n        \"dtype\": \"category\",\n        \"num_unique_values\": 459,\n        \"samples\": [\n          \"\\u20b9 1204\",\n          \"\\u20b9 419\",\n          \"\\u20b9 320\"\n        ],\n        \"semantic_type\": \"\",\n        \"description\": \"\"\n      }\n    },\n    {\n      \"column\": \"skin type\",\n      \"properties\": {\n        \"dtype\": \"category\",\n        \"num_unique_values\": 6,\n        \"samples\": [\n          \"all\",\n          \"normal\",\n          \"sensitive\"\n        ],\n        \"semantic_type\": \"\",\n        \"description\": \"\"\n      }\n    },\n    {\n      \"column\": \"concern\",\n      \"properties\": {\n        \"dtype\": \"category\",\n        \"num_unique_values\": 407,\n        \"samples\": [\n          \"fine lines,wrinkles,deep nourishment,softening,smoothening\",\n          \"hydration,pore care,\",\n          \"dull skin,hydration,daily use\"\n        ],\n        \"semantic_type\": \"\",\n        \"description\": \"\"\n      }\n    }\n  ]\n}",
              "type": "dataframe",
              "variable_name": "df2"
            },
            "text/html": [
              "\n",
              "  <div id=\"df-7199adbd-7941-44b2-8c66-15cf990d9f23\" class=\"colab-df-container\">\n",
              "    <div>\n",
              "<style scoped>\n",
              "    .dataframe tbody tr th:only-of-type {\n",
              "        vertical-align: middle;\n",
              "    }\n",
              "\n",
              "    .dataframe tbody tr th {\n",
              "        vertical-align: top;\n",
              "    }\n",
              "\n",
              "    .dataframe thead th {\n",
              "        text-align: right;\n",
              "    }\n",
              "</style>\n",
              "<table border=\"1\" class=\"dataframe\">\n",
              "  <thead>\n",
              "    <tr style=\"text-align: right;\">\n",
              "      <th></th>\n",
              "      <th>label</th>\n",
              "      <th>url</th>\n",
              "      <th>brand</th>\n",
              "      <th>name</th>\n",
              "      <th>price</th>\n",
              "      <th>skin type</th>\n",
              "      <th>concern</th>\n",
              "    </tr>\n",
              "  </thead>\n",
              "  <tbody>\n",
              "    <tr>\n",
              "      <th>0</th>\n",
              "      <td>face-moisturisers</td>\n",
              "      <td>https://www.myntra.com/face-moisturisers/lakme...</td>\n",
              "      <td>lakme</td>\n",
              "      <td>absolute perfect radiance skin lightening day ...</td>\n",
              "      <td>₹ 79</td>\n",
              "      <td>all</td>\n",
              "      <td>general care,,</td>\n",
              "    </tr>\n",
              "    <tr>\n",
              "      <th>1</th>\n",
              "      <td>face-moisturisers</td>\n",
              "      <td>https://www.myntra.com/face-moisturisers/bioti...</td>\n",
              "      <td>biotique</td>\n",
              "      <td>bio morning nectar flawless sustainable skin m...</td>\n",
              "      <td>₹ 165</td>\n",
              "      <td>all</td>\n",
              "      <td>uneven skin tone,hydration,dark spots</td>\n",
              "    </tr>\n",
              "    <tr>\n",
              "      <th>2</th>\n",
              "      <td>face-moisturisers</td>\n",
              "      <td>https://www.myntra.com/face-moisturisers/nivea...</td>\n",
              "      <td>nivea</td>\n",
              "      <td>unisex aloe hydration skin cream 100 ml</td>\n",
              "      <td>₹ 92</td>\n",
              "      <td>all</td>\n",
              "      <td>dull skin,dryness,general care</td>\n",
              "    </tr>\n",
              "    <tr>\n",
              "      <th>3</th>\n",
              "      <td>face-moisturisers</td>\n",
              "      <td>https://www.myntra.com/face-moisturisers/vi-jo...</td>\n",
              "      <td>vi-john</td>\n",
              "      <td>women set of 5 saffron fairness cream advanced</td>\n",
              "      <td>₹ 187</td>\n",
              "      <td>all</td>\n",
              "      <td>softening,smoothening,softening,smoothening,su...</td>\n",
              "    </tr>\n",
              "    <tr>\n",
              "      <th>4</th>\n",
              "      <td>face-moisturisers</td>\n",
              "      <td>https://www.myntra.com/face-moisturisers/lakme...</td>\n",
              "      <td>lakme</td>\n",
              "      <td>peach milk soft creme 150g</td>\n",
              "      <td>₹ 192</td>\n",
              "      <td>all</td>\n",
              "      <td>general care,,</td>\n",
              "    </tr>\n",
              "    <tr>\n",
              "      <th>...</th>\n",
              "      <td>...</td>\n",
              "      <td>...</td>\n",
              "      <td>...</td>\n",
              "      <td>...</td>\n",
              "      <td>...</td>\n",
              "      <td>...</td>\n",
              "      <td>...</td>\n",
              "    </tr>\n",
              "    <tr>\n",
              "      <th>962</th>\n",
              "      <td>eye-cream</td>\n",
              "      <td>https://www.myntra.com/eye-cream/skinkraft/ski...</td>\n",
              "      <td>skinkraft</td>\n",
              "      <td>vitamin c+e under eye gel for pigmented under ...</td>\n",
              "      <td>₹ 449</td>\n",
              "      <td>all</td>\n",
              "      <td>dark circles,,</td>\n",
              "    </tr>\n",
              "    <tr>\n",
              "      <th>963</th>\n",
              "      <td>eye-cream</td>\n",
              "      <td>https://www.myntra.com/eye-cream/casmara/casma...</td>\n",
              "      <td>casmara</td>\n",
              "      <td>eye-cream 15 ml</td>\n",
              "      <td>₹ 2200</td>\n",
              "      <td>all</td>\n",
              "      <td>fine lines,wrinkles,dark circles,</td>\n",
              "    </tr>\n",
              "    <tr>\n",
              "      <th>964</th>\n",
              "      <td>eye-cream</td>\n",
              "      <td>https://www.myntra.com/eye-cream/myglamm/mygla...</td>\n",
              "      <td>myglamm</td>\n",
              "      <td>white youthfull hydrating eye cream with water...</td>\n",
              "      <td>₹ 716</td>\n",
              "      <td>all</td>\n",
              "      <td>dark circles,dark circles,eye bags</td>\n",
              "    </tr>\n",
              "    <tr>\n",
              "      <th>965</th>\n",
              "      <td>eye-cream</td>\n",
              "      <td>https://www.myntra.com/eye-cream/makeup-revolu...</td>\n",
              "      <td>makeup revolution london</td>\n",
              "      <td>hydro bank hydrating &amp; cooling eye balm</td>\n",
              "      <td>₹ 1050</td>\n",
              "      <td>all</td>\n",
              "      <td>NaN</td>\n",
              "    </tr>\n",
              "    <tr>\n",
              "      <th>966</th>\n",
              "      <td>eye-cream</td>\n",
              "      <td>https://www.myntra.com/eye-cream/yves-rocher/y...</td>\n",
              "      <td>yves rocher</td>\n",
              "      <td>white botanical exceptional youth sustainable ...</td>\n",
              "      <td>₹ 1035</td>\n",
              "      <td>all</td>\n",
              "      <td>dark circles,eye bags,dryness</td>\n",
              "    </tr>\n",
              "  </tbody>\n",
              "</table>\n",
              "<p>967 rows × 7 columns</p>\n",
              "</div>\n",
              "    <div class=\"colab-df-buttons\">\n",
              "\n",
              "  <div class=\"colab-df-container\">\n",
              "    <button class=\"colab-df-convert\" onclick=\"convertToInteractive('df-7199adbd-7941-44b2-8c66-15cf990d9f23')\"\n",
              "            title=\"Convert this dataframe to an interactive table.\"\n",
              "            style=\"display:none;\">\n",
              "\n",
              "  <svg xmlns=\"http://www.w3.org/2000/svg\" height=\"24px\" viewBox=\"0 -960 960 960\">\n",
              "    <path d=\"M120-120v-720h720v720H120Zm60-500h600v-160H180v160Zm220 220h160v-160H400v160Zm0 220h160v-160H400v160ZM180-400h160v-160H180v160Zm440 0h160v-160H620v160ZM180-180h160v-160H180v160Zm440 0h160v-160H620v160Z\"/>\n",
              "  </svg>\n",
              "    </button>\n",
              "\n",
              "  <style>\n",
              "    .colab-df-container {\n",
              "      display:flex;\n",
              "      gap: 12px;\n",
              "    }\n",
              "\n",
              "    .colab-df-convert {\n",
              "      background-color: #E8F0FE;\n",
              "      border: none;\n",
              "      border-radius: 50%;\n",
              "      cursor: pointer;\n",
              "      display: none;\n",
              "      fill: #1967D2;\n",
              "      height: 32px;\n",
              "      padding: 0 0 0 0;\n",
              "      width: 32px;\n",
              "    }\n",
              "\n",
              "    .colab-df-convert:hover {\n",
              "      background-color: #E2EBFA;\n",
              "      box-shadow: 0px 1px 2px rgba(60, 64, 67, 0.3), 0px 1px 3px 1px rgba(60, 64, 67, 0.15);\n",
              "      fill: #174EA6;\n",
              "    }\n",
              "\n",
              "    .colab-df-buttons div {\n",
              "      margin-bottom: 4px;\n",
              "    }\n",
              "\n",
              "    [theme=dark] .colab-df-convert {\n",
              "      background-color: #3B4455;\n",
              "      fill: #D2E3FC;\n",
              "    }\n",
              "\n",
              "    [theme=dark] .colab-df-convert:hover {\n",
              "      background-color: #434B5C;\n",
              "      box-shadow: 0px 1px 3px 1px rgba(0, 0, 0, 0.15);\n",
              "      filter: drop-shadow(0px 1px 2px rgba(0, 0, 0, 0.3));\n",
              "      fill: #FFFFFF;\n",
              "    }\n",
              "  </style>\n",
              "\n",
              "    <script>\n",
              "      const buttonEl =\n",
              "        document.querySelector('#df-7199adbd-7941-44b2-8c66-15cf990d9f23 button.colab-df-convert');\n",
              "      buttonEl.style.display =\n",
              "        google.colab.kernel.accessAllowed ? 'block' : 'none';\n",
              "\n",
              "      async function convertToInteractive(key) {\n",
              "        const element = document.querySelector('#df-7199adbd-7941-44b2-8c66-15cf990d9f23');\n",
              "        const dataTable =\n",
              "          await google.colab.kernel.invokeFunction('convertToInteractive',\n",
              "                                                    [key], {});\n",
              "        if (!dataTable) return;\n",
              "\n",
              "        const docLinkHtml = 'Like what you see? Visit the ' +\n",
              "          '<a target=\"_blank\" href=https://colab.research.google.com/notebooks/data_table.ipynb>data table notebook</a>'\n",
              "          + ' to learn more about interactive tables.';\n",
              "        element.innerHTML = '';\n",
              "        dataTable['output_type'] = 'display_data';\n",
              "        await google.colab.output.renderOutput(dataTable, element);\n",
              "        const docLink = document.createElement('div');\n",
              "        docLink.innerHTML = docLinkHtml;\n",
              "        element.appendChild(docLink);\n",
              "      }\n",
              "    </script>\n",
              "  </div>\n",
              "\n",
              "\n",
              "<div id=\"df-a947d037-9cc5-4422-9b39-f9f641e326d9\">\n",
              "  <button class=\"colab-df-quickchart\" onclick=\"quickchart('df-a947d037-9cc5-4422-9b39-f9f641e326d9')\"\n",
              "            title=\"Suggest charts\"\n",
              "            style=\"display:none;\">\n",
              "\n",
              "<svg xmlns=\"http://www.w3.org/2000/svg\" height=\"24px\"viewBox=\"0 0 24 24\"\n",
              "     width=\"24px\">\n",
              "    <g>\n",
              "        <path d=\"M19 3H5c-1.1 0-2 .9-2 2v14c0 1.1.9 2 2 2h14c1.1 0 2-.9 2-2V5c0-1.1-.9-2-2-2zM9 17H7v-7h2v7zm4 0h-2V7h2v10zm4 0h-2v-4h2v4z\"/>\n",
              "    </g>\n",
              "</svg>\n",
              "  </button>\n",
              "\n",
              "<style>\n",
              "  .colab-df-quickchart {\n",
              "      --bg-color: #E8F0FE;\n",
              "      --fill-color: #1967D2;\n",
              "      --hover-bg-color: #E2EBFA;\n",
              "      --hover-fill-color: #174EA6;\n",
              "      --disabled-fill-color: #AAA;\n",
              "      --disabled-bg-color: #DDD;\n",
              "  }\n",
              "\n",
              "  [theme=dark] .colab-df-quickchart {\n",
              "      --bg-color: #3B4455;\n",
              "      --fill-color: #D2E3FC;\n",
              "      --hover-bg-color: #434B5C;\n",
              "      --hover-fill-color: #FFFFFF;\n",
              "      --disabled-bg-color: #3B4455;\n",
              "      --disabled-fill-color: #666;\n",
              "  }\n",
              "\n",
              "  .colab-df-quickchart {\n",
              "    background-color: var(--bg-color);\n",
              "    border: none;\n",
              "    border-radius: 50%;\n",
              "    cursor: pointer;\n",
              "    display: none;\n",
              "    fill: var(--fill-color);\n",
              "    height: 32px;\n",
              "    padding: 0;\n",
              "    width: 32px;\n",
              "  }\n",
              "\n",
              "  .colab-df-quickchart:hover {\n",
              "    background-color: var(--hover-bg-color);\n",
              "    box-shadow: 0 1px 2px rgba(60, 64, 67, 0.3), 0 1px 3px 1px rgba(60, 64, 67, 0.15);\n",
              "    fill: var(--button-hover-fill-color);\n",
              "  }\n",
              "\n",
              "  .colab-df-quickchart-complete:disabled,\n",
              "  .colab-df-quickchart-complete:disabled:hover {\n",
              "    background-color: var(--disabled-bg-color);\n",
              "    fill: var(--disabled-fill-color);\n",
              "    box-shadow: none;\n",
              "  }\n",
              "\n",
              "  .colab-df-spinner {\n",
              "    border: 2px solid var(--fill-color);\n",
              "    border-color: transparent;\n",
              "    border-bottom-color: var(--fill-color);\n",
              "    animation:\n",
              "      spin 1s steps(1) infinite;\n",
              "  }\n",
              "\n",
              "  @keyframes spin {\n",
              "    0% {\n",
              "      border-color: transparent;\n",
              "      border-bottom-color: var(--fill-color);\n",
              "      border-left-color: var(--fill-color);\n",
              "    }\n",
              "    20% {\n",
              "      border-color: transparent;\n",
              "      border-left-color: var(--fill-color);\n",
              "      border-top-color: var(--fill-color);\n",
              "    }\n",
              "    30% {\n",
              "      border-color: transparent;\n",
              "      border-left-color: var(--fill-color);\n",
              "      border-top-color: var(--fill-color);\n",
              "      border-right-color: var(--fill-color);\n",
              "    }\n",
              "    40% {\n",
              "      border-color: transparent;\n",
              "      border-right-color: var(--fill-color);\n",
              "      border-top-color: var(--fill-color);\n",
              "    }\n",
              "    60% {\n",
              "      border-color: transparent;\n",
              "      border-right-color: var(--fill-color);\n",
              "    }\n",
              "    80% {\n",
              "      border-color: transparent;\n",
              "      border-right-color: var(--fill-color);\n",
              "      border-bottom-color: var(--fill-color);\n",
              "    }\n",
              "    90% {\n",
              "      border-color: transparent;\n",
              "      border-bottom-color: var(--fill-color);\n",
              "    }\n",
              "  }\n",
              "</style>\n",
              "\n",
              "  <script>\n",
              "    async function quickchart(key) {\n",
              "      const quickchartButtonEl =\n",
              "        document.querySelector('#' + key + ' button');\n",
              "      quickchartButtonEl.disabled = true;  // To prevent multiple clicks.\n",
              "      quickchartButtonEl.classList.add('colab-df-spinner');\n",
              "      try {\n",
              "        const charts = await google.colab.kernel.invokeFunction(\n",
              "            'suggestCharts', [key], {});\n",
              "      } catch (error) {\n",
              "        console.error('Error during call to suggestCharts:', error);\n",
              "      }\n",
              "      quickchartButtonEl.classList.remove('colab-df-spinner');\n",
              "      quickchartButtonEl.classList.add('colab-df-quickchart-complete');\n",
              "    }\n",
              "    (() => {\n",
              "      let quickchartButtonEl =\n",
              "        document.querySelector('#df-a947d037-9cc5-4422-9b39-f9f641e326d9 button');\n",
              "      quickchartButtonEl.style.display =\n",
              "        google.colab.kernel.accessAllowed ? 'block' : 'none';\n",
              "    })();\n",
              "  </script>\n",
              "</div>\n",
              "\n",
              "  <div id=\"id_09bae26c-2806-49c4-9b33-d20957fe3606\">\n",
              "    <style>\n",
              "      .colab-df-generate {\n",
              "        background-color: #E8F0FE;\n",
              "        border: none;\n",
              "        border-radius: 50%;\n",
              "        cursor: pointer;\n",
              "        display: none;\n",
              "        fill: #1967D2;\n",
              "        height: 32px;\n",
              "        padding: 0 0 0 0;\n",
              "        width: 32px;\n",
              "      }\n",
              "\n",
              "      .colab-df-generate:hover {\n",
              "        background-color: #E2EBFA;\n",
              "        box-shadow: 0px 1px 2px rgba(60, 64, 67, 0.3), 0px 1px 3px 1px rgba(60, 64, 67, 0.15);\n",
              "        fill: #174EA6;\n",
              "      }\n",
              "\n",
              "      [theme=dark] .colab-df-generate {\n",
              "        background-color: #3B4455;\n",
              "        fill: #D2E3FC;\n",
              "      }\n",
              "\n",
              "      [theme=dark] .colab-df-generate:hover {\n",
              "        background-color: #434B5C;\n",
              "        box-shadow: 0px 1px 3px 1px rgba(0, 0, 0, 0.15);\n",
              "        filter: drop-shadow(0px 1px 2px rgba(0, 0, 0, 0.3));\n",
              "        fill: #FFFFFF;\n",
              "      }\n",
              "    </style>\n",
              "    <button class=\"colab-df-generate\" onclick=\"generateWithVariable('df2')\"\n",
              "            title=\"Generate code using this dataframe.\"\n",
              "            style=\"display:none;\">\n",
              "\n",
              "  <svg xmlns=\"http://www.w3.org/2000/svg\" height=\"24px\"viewBox=\"0 0 24 24\"\n",
              "       width=\"24px\">\n",
              "    <path d=\"M7,19H8.4L18.45,9,17,7.55,7,17.6ZM5,21V16.75L18.45,3.32a2,2,0,0,1,2.83,0l1.4,1.43a1.91,1.91,0,0,1,.58,1.4,1.91,1.91,0,0,1-.58,1.4L9.25,21ZM18.45,9,17,7.55Zm-12,3A5.31,5.31,0,0,0,4.9,8.1,5.31,5.31,0,0,0,1,6.5,5.31,5.31,0,0,0,4.9,4.9,5.31,5.31,0,0,0,6.5,1,5.31,5.31,0,0,0,8.1,4.9,5.31,5.31,0,0,0,12,6.5,5.46,5.46,0,0,0,6.5,12Z\"/>\n",
              "  </svg>\n",
              "    </button>\n",
              "    <script>\n",
              "      (() => {\n",
              "      const buttonEl =\n",
              "        document.querySelector('#id_09bae26c-2806-49c4-9b33-d20957fe3606 button.colab-df-generate');\n",
              "      buttonEl.style.display =\n",
              "        google.colab.kernel.accessAllowed ? 'block' : 'none';\n",
              "\n",
              "      buttonEl.onclick = () => {\n",
              "        google.colab.notebook.generateWithVariable('df2');\n",
              "      }\n",
              "      })();\n",
              "    </script>\n",
              "  </div>\n",
              "\n",
              "    </div>\n",
              "  </div>\n"
            ],
            "text/plain": [
              "                 label                                                url  \\\n",
              "0    face-moisturisers  https://www.myntra.com/face-moisturisers/lakme...   \n",
              "1    face-moisturisers  https://www.myntra.com/face-moisturisers/bioti...   \n",
              "2    face-moisturisers  https://www.myntra.com/face-moisturisers/nivea...   \n",
              "3    face-moisturisers  https://www.myntra.com/face-moisturisers/vi-jo...   \n",
              "4    face-moisturisers  https://www.myntra.com/face-moisturisers/lakme...   \n",
              "..                 ...                                                ...   \n",
              "962          eye-cream  https://www.myntra.com/eye-cream/skinkraft/ski...   \n",
              "963          eye-cream  https://www.myntra.com/eye-cream/casmara/casma...   \n",
              "964          eye-cream  https://www.myntra.com/eye-cream/myglamm/mygla...   \n",
              "965          eye-cream  https://www.myntra.com/eye-cream/makeup-revolu...   \n",
              "966          eye-cream  https://www.myntra.com/eye-cream/yves-rocher/y...   \n",
              "\n",
              "                        brand  \\\n",
              "0                       lakme   \n",
              "1                    biotique   \n",
              "2                       nivea   \n",
              "3                     vi-john   \n",
              "4                       lakme   \n",
              "..                        ...   \n",
              "962                 skinkraft   \n",
              "963                   casmara   \n",
              "964                   myglamm   \n",
              "965  makeup revolution london   \n",
              "966               yves rocher   \n",
              "\n",
              "                                                  name   price skin type  \\\n",
              "0    absolute perfect radiance skin lightening day ...    ₹ 79       all   \n",
              "1    bio morning nectar flawless sustainable skin m...   ₹ 165       all   \n",
              "2              unisex aloe hydration skin cream 100 ml    ₹ 92       all   \n",
              "3       women set of 5 saffron fairness cream advanced   ₹ 187       all   \n",
              "4                           peach milk soft creme 150g   ₹ 192       all   \n",
              "..                                                 ...     ...       ...   \n",
              "962  vitamin c+e under eye gel for pigmented under ...   ₹ 449       all   \n",
              "963                                    eye-cream 15 ml  ₹ 2200       all   \n",
              "964  white youthfull hydrating eye cream with water...   ₹ 716       all   \n",
              "965            hydro bank hydrating & cooling eye balm  ₹ 1050       all   \n",
              "966  white botanical exceptional youth sustainable ...  ₹ 1035       all   \n",
              "\n",
              "                                               concern  \n",
              "0                                       general care,,  \n",
              "1                uneven skin tone,hydration,dark spots  \n",
              "2                       dull skin,dryness,general care  \n",
              "3    softening,smoothening,softening,smoothening,su...  \n",
              "4                                       general care,,  \n",
              "..                                                 ...  \n",
              "962                                     dark circles,,  \n",
              "963                  fine lines,wrinkles,dark circles,  \n",
              "964                 dark circles,dark circles,eye bags  \n",
              "965                                                NaN  \n",
              "966                      dark circles,eye bags,dryness  \n",
              "\n",
              "[967 rows x 7 columns]"
            ]
          },
          "execution_count": 17,
          "metadata": {},
          "output_type": "execute_result"
        }
      ],
      "source": [
        "df2['brand'] = df2['brand'].str.lower()\n",
        "df2['name'] = df2['name'].str.lower()\n",
        "df2['skin type'] = df2['skin type'].str.lower()\n",
        "df2['concern'] = df2['concern'].str.replace(' and ', ',').str.replace(' or ', ',')\n",
        "df2"
      ]
    },
    {
      "cell_type": "code",
      "execution_count": null,
      "id": "c6081aef",
      "metadata": {
        "colab": {
          "background_save": true,
          "base_uri": "https://localhost:8080/",
          "height": 331
        },
        "id": "c6081aef",
        "outputId": "475945e3-fb14-4c2a-dd78-615d616840ae"
      },
      "outputs": [
        {
          "name": "stdout",
          "output_type": "stream",
          "text": [
            "general care,,\n",
            "uneven skin tone,hydration,dark spots\n",
            "dull skin,dryness,general care\n",
            "softening,smoothening,softening,smoothening,sun protection\n",
            "general care,,\n",
            "uneven skin tone,dull skin,hydration\n",
            "general care,,\n",
            "dark spots,uneven skin tone,\n",
            "uneven skin tone,hydration,dark spots\n",
            "general care,dryness,softening,smoothening\n",
            "general care,irregular textures,pigmentation\n",
            "general care,,\n",
            "dryness,skin inflammation,sun protection\n",
            "fine lines,wrinkles,hydration,softening,smoothening\n",
            "pigmentation,,\n",
            "dryness,deep nourishment,dryness\n",
            "pigmentation,,\n",
            "general care,,\n",
            "general care,,\n",
            "softening,smoothening,hydration,deep nourishment\n",
            "fine lines,wrinkles,,\n",
            "general care,dull skin,dryness\n",
            "general care,,\n",
            "fine lines,wrinkles,pigmentation,\n",
            "pigmentation,blackheads,whiteheads,\n",
            "excess oil,,\n",
            "uneven skin tone,hydration,\n",
            "pigmentation,dull skin,dark spots\n",
            "softening,smoothening,,\n",
            "excess oil,dryness,hydration\n",
            "skin sagging,hydration,\n",
            "general care,,\n",
            "fine lines,wrinkles,softening,smoothening,uneven skin tone\n",
            "dull skin,,\n",
            "acne,blemishes,blackheads,whiteheads,excess oil\n",
            "dryness,dull skin,deep nourishment\n",
            "acne,blemishes,dark spots,acne,blemishes\n",
            "hydration,deep nourishment,dryness\n",
            "fine lines,wrinkles,skin sagging,pigmentation\n",
            "nan\n"
          ]
        },
        {
          "ename": "AttributeError",
          "evalue": "'float' object has no attribute 'split'",
          "output_type": "error",
          "traceback": [
            "\u001b[0;31m---------------------------------------------------------------------------\u001b[0m",
            "\u001b[0;31mAttributeError\u001b[0m                            Traceback (most recent call last)",
            "\u001b[0;32m<ipython-input-20-c40d5a1df100>\u001b[0m in \u001b[0;36m<cell line: 16>\u001b[0;34m()\u001b[0m\n\u001b[1;32m     16\u001b[0m \u001b[0;32mfor\u001b[0m \u001b[0mi\u001b[0m \u001b[0;32min\u001b[0m \u001b[0mrange\u001b[0m\u001b[0;34m(\u001b[0m\u001b[0mentries\u001b[0m\u001b[0;34m)\u001b[0m\u001b[0;34m:\u001b[0m\u001b[0;34m\u001b[0m\u001b[0;34m\u001b[0m\u001b[0m\n\u001b[1;32m     17\u001b[0m   \u001b[0mprint\u001b[0m\u001b[0;34m(\u001b[0m\u001b[0mdf2\u001b[0m\u001b[0;34m.\u001b[0m\u001b[0miloc\u001b[0m\u001b[0;34m[\u001b[0m\u001b[0mi\u001b[0m\u001b[0;34m]\u001b[0m\u001b[0;34m[\u001b[0m\u001b[0;34m'concern'\u001b[0m\u001b[0;34m]\u001b[0m\u001b[0;34m)\u001b[0m\u001b[0;34m\u001b[0m\u001b[0;34m\u001b[0m\u001b[0m\n\u001b[0;32m---> 18\u001b[0;31m   \u001b[0mconcern_elements\u001b[0m\u001b[0;34m(\u001b[0m\u001b[0mdf2\u001b[0m\u001b[0;34m.\u001b[0m\u001b[0miloc\u001b[0m\u001b[0;34m[\u001b[0m\u001b[0mi\u001b[0m\u001b[0;34m]\u001b[0m\u001b[0;34m[\u001b[0m\u001b[0;34m'concern'\u001b[0m\u001b[0;34m]\u001b[0m\u001b[0;34m)\u001b[0m\u001b[0;34m\u001b[0m\u001b[0;34m\u001b[0m\u001b[0m\n\u001b[0m\u001b[1;32m     19\u001b[0m \u001b[0;34m\u001b[0m\u001b[0m\n",
            "\u001b[0;32m<ipython-input-20-c40d5a1df100>\u001b[0m in \u001b[0;36mconcern_elements\u001b[0;34m(comma_sep_concerns)\u001b[0m\n\u001b[1;32m      1\u001b[0m \u001b[0;32mdef\u001b[0m \u001b[0mconcern_elements\u001b[0m\u001b[0;34m(\u001b[0m\u001b[0mcomma_sep_concerns\u001b[0m\u001b[0;34m)\u001b[0m\u001b[0;34m:\u001b[0m\u001b[0;34m\u001b[0m\u001b[0;34m\u001b[0m\u001b[0m\n\u001b[0;32m----> 2\u001b[0;31m     \u001b[0mwords\u001b[0m \u001b[0;34m=\u001b[0m \u001b[0mcomma_sep_concerns\u001b[0m\u001b[0;34m.\u001b[0m\u001b[0msplit\u001b[0m\u001b[0;34m(\u001b[0m\u001b[0;34m','\u001b[0m\u001b[0;34m)\u001b[0m\u001b[0;34m\u001b[0m\u001b[0;34m\u001b[0m\u001b[0m\n\u001b[0m\u001b[1;32m      3\u001b[0m     \u001b[0;32mfor\u001b[0m \u001b[0mw\u001b[0m \u001b[0;32min\u001b[0m \u001b[0mwords\u001b[0m\u001b[0;34m:\u001b[0m\u001b[0;34m\u001b[0m\u001b[0;34m\u001b[0m\u001b[0m\n\u001b[1;32m      4\u001b[0m         \u001b[0;32mif\u001b[0m \u001b[0mw\u001b[0m \u001b[0;34m!=\u001b[0m \u001b[0;34m''\u001b[0m\u001b[0;34m:\u001b[0m\u001b[0;34m\u001b[0m\u001b[0;34m\u001b[0m\u001b[0m\n\u001b[1;32m      5\u001b[0m             \u001b[0mtemp\u001b[0m \u001b[0;34m=\u001b[0m \u001b[0mw\u001b[0m\u001b[0;34m.\u001b[0m\u001b[0mrstrip\u001b[0m\u001b[0;34m(\u001b[0m\u001b[0;34m)\u001b[0m\u001b[0;34m\u001b[0m\u001b[0;34m\u001b[0m\u001b[0m\n",
            "\u001b[0;31mAttributeError\u001b[0m: 'float' object has no attribute 'split'"
          ]
        }
      ],
      "source": [
        "def concern_elements(comma_sep_concerns):\n",
        "    words = comma_sep_concerns.split(',')\n",
        "    for w in words:\n",
        "        if w != '':\n",
        "            temp = w.rstrip()\n",
        "            if temp in concerns:\n",
        "                concerns[temp] += 1\n",
        "            else:\n",
        "                concerns[temp] = 1\n",
        "\n",
        "\n",
        "\n",
        "# features\n",
        "list(df2['skin type'].unique())\n",
        "concerns = {}\n",
        "for i in range(entries):\n",
        "  print()\n",
        "    concern_elements(df2.iloc[i]['concern'])\n"
      ]
    },
    {
      "cell_type": "code",
      "execution_count": null,
      "id": "e9cb62a8",
      "metadata": {
        "id": "e9cb62a8"
      },
      "outputs": [],
      "source": []
    },
    {
      "cell_type": "code",
      "execution_count": null,
      "id": "43bfe84f",
      "metadata": {
        "id": "43bfe84f"
      },
      "outputs": [],
      "source": [
        "print(sorted(concerns.items(), key =\n",
        "             lambda kv:(kv[1], kv[0])))"
      ]
    },
    {
      "cell_type": "code",
      "execution_count": null,
      "id": "ea53fef4",
      "metadata": {
        "id": "ea53fef4"
      },
      "outputs": [],
      "source": [
        "concerns.pop('anti acne scarring')\n",
        "concerns.pop('anti-ageing')\n",
        "concerns.pop('skin tightening')\n",
        "concerns.pop('blackheads removal')\n",
        "concerns.pop('irregular textures')\n",
        "concerns.pop('skin inflammation')\n",
        "concerns.pop('oil control')\n",
        "concerns.pop('redness')\n",
        "concerns.pop('oily skin')\n",
        "concerns.pop('skin sagging')\n",
        "concerns.pop('sun protection')\n",
        "concerns.pop('lightening')\n",
        "concerns.pop('tan removal')\n",
        "concerns.pop('excess oil')\n",
        "\n",
        "# concerns.pop('anti acne scarring')\n",
        "# concerns['scarring'] =\n",
        "# concerns.remo('blackheads removal')\n",
        "# concerns.remove('dull skin')\n",
        "# # concerns.remove('dullness')\n",
        "# concerns.add('dull')\n",
        "# concerns.remove('oily skin')\n",
        "# concerns.remove('excess oil')\n",
        "# concerns.remove('oil control')\n",
        "# concerns.add('oil')"
      ]
    },
    {
      "cell_type": "code",
      "execution_count": null,
      "id": "d5d0b141",
      "metadata": {
        "id": "d5d0b141"
      },
      "outputs": [],
      "source": [
        "features = list(df2['skin type'].unique()) + list(concerns)\n",
        "(features)\n",
        "\n",
        "features = ['normal','dry','oily','combination', 'acne','sensitive','fine lines', 'wrinkles', 'redness', 'dull', 'pore', 'pigmentation', 'blackheads','whiteheads', 'blemishes', 'dark circles', 'eye bags', 'dark spots']"
      ]
    },
    {
      "cell_type": "code",
      "execution_count": null,
      "id": "ad98a1a7",
      "metadata": {
        "id": "ad98a1a7"
      },
      "outputs": [],
      "source": [
        "df2.info()"
      ]
    },
    {
      "cell_type": "code",
      "execution_count": null,
      "id": "56fc0a23",
      "metadata": {
        "id": "56fc0a23"
      },
      "outputs": [],
      "source": [
        "len(features)"
      ]
    },
    {
      "cell_type": "code",
      "execution_count": null,
      "id": "1db8d323",
      "metadata": {
        "id": "1db8d323"
      },
      "outputs": [],
      "source": [
        "def search_concern(target, i):\n",
        "    if target in df2.iloc[i]['concern']:\n",
        "        return True\n",
        "    return False\n",
        "\n",
        "one_hot_encodings = np.zeros([entries, len(features)])\n",
        "\n",
        "#skin types first\n",
        "for i in range(entries):\n",
        "    for j in range(5):\n",
        "        target = features[j]\n",
        "        sk_type = df2.iloc[i]['skin type']\n",
        "        if sk_type == 'all':\n",
        "            one_hot_encodings[i][0:5] = 1\n",
        "        elif target == sk_type:\n",
        "            one_hot_encodings[i][j] = 1\n",
        "\n",
        "#other features\n",
        "for i in range(entries):\n",
        "    for j in range(5, len(features)):\n",
        "        feature = features[j]\n",
        "        if feature in df2.iloc[i]['concern']:\n",
        "            one_hot_encodings[i][j] = 1\n",
        "\n"
      ]
    },
    {
      "cell_type": "code",
      "execution_count": null,
      "id": "93e1c061",
      "metadata": {
        "id": "93e1c061"
      },
      "outputs": [],
      "source": [
        "x = one_hot_encodings[456]"
      ]
    },
    {
      "cell_type": "code",
      "execution_count": null,
      "id": "73d39607",
      "metadata": {
        "id": "73d39607"
      },
      "outputs": [],
      "source": [
        "from sklearn.neighbors import NearestNeighbors\n",
        "nbrs = NearestNeighbors(n_neighbors=6, algorithm='ball_tree').fit(one_hot_encodings)\n",
        "distances, indices = nbrs.kneighbors(one_hot_encodings)\n",
        "\n",
        "# get_index_from_name('peach milk soft creme 150g')\n"
      ]
    },
    {
      "cell_type": "code",
      "execution_count": null,
      "id": "2c86fab3",
      "metadata": {
        "id": "2c86fab3"
      },
      "outputs": [],
      "source": [
        "# finding the closes data points\n",
        "def recs_nn(query=None,id=None):\n",
        "    if id:\n",
        "        for id in indices[id][1:]:\n",
        "            print(anime.ix[id][\"name\"])\n",
        "    if query:\n",
        "        found_id = get_index_from_name(query)\n",
        "        for id in indices[found_id][1:]:\n",
        "            print(index2prod(id))"
      ]
    },
    {
      "cell_type": "markdown",
      "id": "f5e79c5f",
      "metadata": {
        "id": "f5e79c5f"
      },
      "source": [
        "## Cosine Similarity"
      ]
    },
    {
      "cell_type": "code",
      "execution_count": null,
      "id": "d032f52f",
      "metadata": {
        "id": "d032f52f"
      },
      "outputs": [],
      "source": [
        "# utility functions\n",
        "def name2index(name):\n",
        "    return df2[df2[\"name\"]==name].index.tolist()[0]\n",
        "\n",
        "def index2prod(index):\n",
        "    return df2.iloc[index]"
      ]
    },
    {
      "cell_type": "code",
      "execution_count": null,
      "id": "a6f55dab",
      "metadata": {
        "id": "a6f55dab"
      },
      "outputs": [],
      "source": [
        "\n",
        "def wrap(info_arr):\n",
        "    result = {}\n",
        "#     print(info_arr)\n",
        "    result['brand'] = info_arr[0]\n",
        "    result['name'] = info_arr[1]\n",
        "    result['price'] = info_arr[2]\n",
        "    result['url'] = info_arr[3]\n",
        "    result['skin type'] = info_arr[4]\n",
        "    result['concern'] = str(info_arr[5]).split(',')\n",
        "    return result\n",
        "\n",
        "\n",
        "# recommend top 10 similar items from a category\n",
        "def recs_cs(vector = None, name = None, label = None, count = 5):\n",
        "    products = []\n",
        "    if name:\n",
        "        idx = name2index(name)\n",
        "        fv = one_hot_encodings[idx]\n",
        "    elif vector:\n",
        "        fv = vector\n",
        "    cs_values = cosine_similarity(np.array([fv, ]), one_hot_encodings)\n",
        "    df2['cs'] = cs_values[0]\n",
        "\n",
        "    if label:\n",
        "        dff = df2[df2['label'] == label]\n",
        "    else:\n",
        "        dff = df2\n",
        "\n",
        "    if name:\n",
        "        dff = dff[dff['name'] != name]\n",
        "    recommendations = dff.sort_values('cs', ascending=False).head(count)\n",
        "    #   print(f\"Top {count} matching {label} items\")\n",
        "    data = recommendations[['brand', 'name', 'price', 'url','skin type','concern']].to_dict('split')['data']\n",
        "    for element in data:\n",
        "        products.append(wrap(element))\n",
        "    return products"
      ]
    },
    {
      "cell_type": "code",
      "execution_count": null,
      "id": "e332e04a",
      "metadata": {
        "id": "e332e04a"
      },
      "outputs": [],
      "source": [
        "# overall recommendation\n",
        "def recs_essentials(vector = None, name = None):\n",
        "#     print(\"ESSENTIALS:\")\n",
        "    response = {}\n",
        "    for label in LABELS:\n",
        "#         print(f\"{label}:\")\n",
        "        if name:\n",
        "            r = recs_cs(None, name, label)\n",
        "        elif vector:\n",
        "            r = recs_cs(vector, None, label)\n",
        "        response[label] = r\n",
        "    return response\n"
      ]
    },
    {
      "cell_type": "code",
      "execution_count": null,
      "id": "fc00273f",
      "metadata": {
        "id": "fc00273f"
      },
      "outputs": [],
      "source": [
        "# features = ['normal','dry','oily','combination', 'acne','sensitive','fine lines', 'wrinkles', 'redness', 'dull', 'pore ', 'pigmentation', 'blackheads','whiteheads', 'blemishes', 'dark circles', 'eye bags', 'dark spots']\n",
        "x = [1,1,1,1,0,1,0,0,0,1,0,0,0,0,1,0,1,0]\n",
        "\n",
        "y = recs_essentials(x, None)\n",
        "y"
      ]
    },
    {
      "cell_type": "markdown",
      "id": "d02c490c",
      "metadata": {
        "id": "d02c490c"
      },
      "source": [
        "## Makeup Items"
      ]
    },
    {
      "cell_type": "code",
      "execution_count": null,
      "id": "432359f9",
      "metadata": {
        "id": "432359f9"
      },
      "outputs": [],
      "source": [
        "# info\n",
        "makeup.info()"
      ]
    },
    {
      "cell_type": "code",
      "execution_count": null,
      "id": "75d192c9",
      "metadata": {
        "id": "75d192c9"
      },
      "outputs": [],
      "source": [
        "makeup.drop(columns = ['concern 2', 'concern 3', 'key ingredient', 'formulation', 'spf', 'concern'], inplace = True)"
      ]
    },
    {
      "cell_type": "code",
      "execution_count": null,
      "id": "f69e8e0c",
      "metadata": {
        "id": "f69e8e0c"
      },
      "outputs": [],
      "source": [
        "makeup.isna().sum()"
      ]
    },
    {
      "cell_type": "code",
      "execution_count": null,
      "id": "de02a336",
      "metadata": {
        "id": "de02a336"
      },
      "outputs": [],
      "source": [
        "makeup.dropna(subset=['skin tone'], inplace=True)\n"
      ]
    },
    {
      "cell_type": "code",
      "execution_count": null,
      "id": "41c8b4b7",
      "metadata": {
        "id": "41c8b4b7"
      },
      "outputs": [],
      "source": [
        "makeup[makeup['label'] == 'foundation']['skin type'].value_counts()"
      ]
    },
    {
      "cell_type": "code",
      "execution_count": null,
      "id": "d44046da",
      "metadata": {
        "id": "d44046da"
      },
      "outputs": [],
      "source": [
        "makeup[makeup['label'] == 'foundation']['skin type'].isna().sum()"
      ]
    },
    {
      "cell_type": "code",
      "execution_count": null,
      "id": "04d3e93b",
      "metadata": {
        "id": "04d3e93b"
      },
      "outputs": [],
      "source": [
        "makeup[makeup['label'] == 'primer']['skin type'].isna().sum()"
      ]
    },
    {
      "cell_type": "code",
      "execution_count": null,
      "id": "12a53f49",
      "metadata": {
        "id": "12a53f49"
      },
      "outputs": [],
      "source": [
        "makeup[makeup['label'] == 'primer']['skin type'].value_counts()"
      ]
    },
    {
      "cell_type": "code",
      "execution_count": null,
      "id": "210fdf57",
      "metadata": {
        "id": "210fdf57"
      },
      "outputs": [],
      "source": [
        "makeup[makeup['label'] == 'concealer']['skin type'].isna().sum()"
      ]
    },
    {
      "cell_type": "code",
      "execution_count": null,
      "id": "f1f5adf4",
      "metadata": {
        "id": "f1f5adf4"
      },
      "outputs": [],
      "source": [
        "makeup[makeup['label'] == 'concealer']['skin type'].value_counts()"
      ]
    },
    {
      "cell_type": "code",
      "execution_count": null,
      "id": "f8c0c989",
      "metadata": {
        "id": "f8c0c989"
      },
      "outputs": [],
      "source": [
        "makeup['skin type'].fillna('All', inplace = True)"
      ]
    },
    {
      "cell_type": "code",
      "execution_count": null,
      "id": "15bfed55",
      "metadata": {
        "id": "15bfed55"
      },
      "outputs": [],
      "source": [
        "makeup['brand'] = makeup['brand'].str.lower()\n",
        "makeup['name'] = makeup['name'].str.lower()\n",
        "makeup['skin type'] = makeup['skin type'].str.lower()\n",
        "makeup['skin tone'] = makeup['skin tone'].str.lower()\n"
      ]
    },
    {
      "cell_type": "code",
      "execution_count": null,
      "id": "451dab55",
      "metadata": {
        "id": "451dab55"
      },
      "outputs": [],
      "source": [
        "def wrap_makeup(info_arr):\n",
        "    result = {}\n",
        "#     print(info_arr)\n",
        "    result['brand'] = info_arr[0]\n",
        "    result['name'] = info_arr[1]\n",
        "    result['price'] = info_arr[2]\n",
        "    result['url'] = info_arr[3]\n",
        "    result['skin type'] = info_arr[4]\n",
        "    result['skin tone'] = info_arr[5]\n",
        "    return result\n",
        "\n",
        "\n",
        "\n",
        "def makeup_recommendation(skin_tone, skin_type):\n",
        "    result = []\n",
        "    dff = pd.DataFrame()\n",
        "    dff = dff.append(makeup[(makeup['skin tone'] == skin_tone) & (makeup['skin type'] == skin_type) & (makeup['label'] == 'foundation')].head(2))\n",
        "    dff = dff.append(makeup[(makeup['skin tone'] == skin_tone) & (makeup['skin type'] == skin_type) & (makeup['label'] == 'concealer')].head(2))\n",
        "    dff = dff.append(makeup[(makeup['skin tone'] == skin_tone) & (makeup['skin type'] == skin_type) & (makeup['label'] == 'primer')].head(2))\n",
        "    dff= dff.sample(frac = 1)\n",
        "    data = dff[['brand', 'name', 'price', 'url', 'skin type', 'skin tone']].to_dict('split')['data']\n",
        "    for element in data:\n",
        "        result.append(wrap_makeup(element))\n",
        "    return result\n",
        "\n"
      ]
    },
    {
      "cell_type": "code",
      "execution_count": null,
      "id": "ea47ecdc",
      "metadata": {
        "id": "ea47ecdc",
        "colab": {
          "base_uri": "https://localhost:8080/"
        },
        "outputId": "e82fbb08-e482-497b-c076-7402144b9982"
      },
      "outputs": [
        {
          "output_type": "execute_result",
          "data": {
            "text/plain": [
              "[{'brand': 'l.a girl',\n",
              "  'name': 'warm honey hd pro concealer gc982',\n",
              "  'price': '₹ 695',\n",
              "  'url': 'https://www.myntra.com/concealer/la-girl/la-girl-warm-honey-hd-pro-concealer-gc982/2156495/buy',\n",
              "  'skin type': 'normal',\n",
              "  'skin tone': 'light to medium'},\n",
              " {'brand': 'faces canada',\n",
              "  'name': 'ultime pro makeup fixer',\n",
              "  'price': '₹ 486',\n",
              "  'url': 'https://www.myntra.com/foundation-and-primer/faces-canada/faces-canada-ultime-pro-makeup-fixer/2421530/buy',\n",
              "  'skin type': 'normal',\n",
              "  'skin tone': 'light to medium'},\n",
              " {'brand': 'loreal',\n",
              "  'name': 'paris true match super blendable concealer - golden beige 3dw 6.8ml',\n",
              "  'price': '₹ 849',\n",
              "  'url': 'https://www.myntra.com/concealer/loreal/loreal-paris-true-match-super-blendable-concealer---golden-beige-3dw-68ml/8051113/buy',\n",
              "  'skin type': 'normal',\n",
              "  'skin tone': 'light to medium'},\n",
              " {'brand': 'wet n wild',\n",
              "  'name': 'sustainable photo focus natural finish setting spray - seal the deal',\n",
              "  'price': '₹ 454',\n",
              "  'url': 'https://www.myntra.com/foundation-and-primer/wet-n-wild/wet-n-wild-sustainable-photo-focus-natural-finish-setting-spray---seal-the-deal/12045972/buy',\n",
              "  'skin type': 'normal',\n",
              "  'skin tone': 'light to medium'},\n",
              " {'brand': 'faces canada',\n",
              "  'name': 'weightless matte finish mini foundation natural 02 18ml',\n",
              "  'price': '₹ 169',\n",
              "  'url': 'https://www.myntra.com/foundation-and-primer/faces-canada/faces-canada-weightless-matte-finish-mini-foundation-natural-02-18ml/14254364/buy',\n",
              "  'skin type': 'normal',\n",
              "  'skin tone': 'light to medium'},\n",
              " {'brand': 'wet n wild',\n",
              "  'name': 'sustainable photo focus matte face primer - partners in prime',\n",
              "  'price': '₹ 454',\n",
              "  'url': 'https://www.myntra.com/foundation-and-primer/wet-n-wild/wet-n-wild-sustainable-photo-focus-matte-face-primer---partners-in-prime/12045988/buy',\n",
              "  'skin type': 'normal',\n",
              "  'skin tone': 'light to medium'}]"
            ]
          },
          "metadata": {},
          "execution_count": 102
        }
      ],
      "source": [
        "makeup_recommendation('light to medium', 'normal')"
      ]
    },
    {
      "cell_type": "code",
      "source": [
        "makeup_recommendation('dark to deep', 'oily')"
      ],
      "metadata": {
        "colab": {
          "base_uri": "https://localhost:8080/"
        },
        "id": "tsow-9_vvkBr",
        "outputId": "f70f3711-cf10-4a73-a1c3-4e22c7319230"
      },
      "id": "tsow-9_vvkBr",
      "execution_count": null,
      "outputs": [
        {
          "output_type": "execute_result",
          "data": {
            "text/plain": [
              "[]"
            ]
          },
          "metadata": {},
          "execution_count": 105
        }
      ]
    },
    {
      "cell_type": "code",
      "execution_count": null,
      "id": "50a3eab2",
      "metadata": {
        "id": "50a3eab2"
      },
      "outputs": [],
      "source": [
        "df2\n",
        "df2.to_csv('general_skin_care_final.csv')"
      ]
    },
    {
      "cell_type": "code",
      "execution_count": null,
      "id": "41ce1ff2",
      "metadata": {
        "id": "41ce1ff2"
      },
      "outputs": [],
      "source": [
        "df2.drop(columns = ['cs'], inplace = True)"
      ]
    },
    {
      "cell_type": "code",
      "execution_count": null,
      "id": "3652546c",
      "metadata": {
        "id": "3652546c"
      },
      "outputs": [],
      "source": [
        "df2"
      ]
    },
    {
      "cell_type": "code",
      "execution_count": null,
      "id": "8d83c214",
      "metadata": {
        "id": "8d83c214"
      },
      "outputs": [],
      "source": [
        "len(df2.to_dict('split')['data'])"
      ]
    },
    {
      "cell_type": "code",
      "execution_count": null,
      "id": "6ae8508c",
      "metadata": {
        "id": "6ae8508c"
      },
      "outputs": [],
      "source": [
        "makeup"
      ]
    },
    {
      "cell_type": "code",
      "execution_count": null,
      "id": "b2889e09",
      "metadata": {
        "id": "b2889e09"
      },
      "outputs": [],
      "source": [
        "makeup.to_csv('makeup_test.csv')"
      ]
    },
    {
      "cell_type": "code",
      "execution_count": null,
      "id": "3813293a",
      "metadata": {
        "id": "3813293a"
      },
      "outputs": [],
      "source": [
        "df2.to_csv('general_test_final.csv')"
      ]
    }
  ],
  "metadata": {
    "colab": {
      "provenance": []
    },
    "kernelspec": {
      "display_name": "Python 3",
      "language": "python",
      "name": "python3"
    },
    "language_info": {
      "codemirror_mode": {
        "name": "ipython",
        "version": 3
      },
      "file_extension": ".py",
      "mimetype": "text/x-python",
      "name": "python",
      "nbconvert_exporter": "python",
      "pygments_lexer": "ipython3",
      "version": "3.6.9"
    }
  },
  "nbformat": 4,
  "nbformat_minor": 5
}